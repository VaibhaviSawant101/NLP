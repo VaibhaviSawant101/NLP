{
 "cells": [
  {
   "cell_type": "markdown",
   "id": "0ddf49a1",
   "metadata": {},
   "source": [
    "## Parts of Speech Tags"
   ]
  },
  {
   "cell_type": "markdown",
   "id": "1ecacaf8",
   "metadata": {},
   "source": [
    "1. CC coordinating conjunction\n",
    "2. CD cardinal digit\n",
    "3. DT determiner\n",
    "4. EX existential there (like: \"there is\" - thin of it like \"ther exists\"\n",
    "5. FW foreign word\n",
    "6. IN preposition/subordinating conjunction\n",
    "7. JJ adjective - 'big'\n",
    "8. JJR adjective, comparative - 'bigger'\n",
    "9. JJS adjective, superlative - 'biggest'\n",
    "10. LS list marker 1)\n",
    "11. MD modal - could, will\n",
    "12. NN noun, singular '-desk'\n",
    "13. NNS noun plural - 'desks'\n",
    "14. NNP proper noun, singular - 'Harrison'\n",
    "15. NNPS proper noun, plural - 'Americans'\n",
    "16. PDT predeterminer - 'all the kids'\n",
    "17. POS possessive ending parent's\n",
    "18. PRP personal pronoun - I, he, she\n",
    "19. PRPdollarsign possessive pronoun - my, his, her\n",
    "20. RB adverb - very, silently\n",
    "21. RBR adverb, comparative - better\n",
    "22. RBS adverb, superlative - best\n",
    "23. RP particle - give up\n",
    "24. TO - to go 'to' the store\n",
    "25. UH interjection - errrrrm\n",
    "26. VB verb, base form - take\n",
    "27. VBD verb, past tense - took\n",
    "28. VBG verb, gerund/present participle - taking\n",
    "29. VBN verb, past participle - taken\n",
    "30. VBP verb, sing. present, non-3d - take\n",
    "31. VBZ verb, 3rd person sing. present - takes\n",
    "32. WDT wh-determiner - which\n",
    "33. WP wh-pronoun - who, what\n",
    "34. WPdollarsign possessive  wh-pronoun, eg-whose\n",
    "35. WRB wh-adverb, eg - where, when"
   ]
  },
  {
   "cell_type": "code",
   "execution_count": 2,
   "id": "3d4669e7",
   "metadata": {},
   "outputs": [],
   "source": [
    "para = \"\"\"I have three visions for India. In 3000 years of our history, people from\n",
    "all over the world have come and invaded us, captures our lands, conquered our\n",
    "minds. From Alexander onwards, the Greeks, the Turks, the Moguls, the portuguese\n",
    ", the british, the french, the dutch, all of them came and looted us, took over\n",
    "what was ours. Yet we have not done this to any other nation. We have not \n",
    "conquered anyone. We have not grabbbed their land, their culture, their \n",
    "history and tried to enforce our way of life on them. Why? Because we respect \n",
    "the freedom of others. That is why my first vision is that of freedom of others.\n",
    "I believe that India got its first vision of this in 1857, when we started the \n",
    "War of Independence. It is this freedom that we must protect and nurture and \n",
    "build on\"\"\""
   ]
  },
  {
   "cell_type": "code",
   "execution_count": 3,
   "id": "cb3d4f37",
   "metadata": {},
   "outputs": [],
   "source": [
    "import nltk\n",
    "document = nltk.sent_tokenize(para)"
   ]
  },
  {
   "cell_type": "code",
   "execution_count": 4,
   "id": "e4a480a0",
   "metadata": {},
   "outputs": [],
   "source": [
    "from nltk.corpus import stopwords"
   ]
  },
  {
   "cell_type": "code",
   "execution_count": 9,
   "id": "ff592c6f",
   "metadata": {},
   "outputs": [
    {
     "name": "stdout",
     "output_type": "stream",
     "text": [
      "[('I', 'PRP'), ('three', 'CD'), ('visions', 'NNS'), ('India', 'NNP'), ('.', '.')]\n",
      "[('In', 'IN'), ('3000', 'CD'), ('years', 'NNS'), ('history', 'NN'), (',', ','), ('people', 'NNS'), ('world', 'NN'), ('come', 'VBP'), ('invaded', 'VBN'), ('us', 'PRP'), (',', ','), ('captures', 'VBZ'), ('lands', 'NNS'), (',', ','), ('conquered', 'VBD'), ('minds', 'NNS'), ('.', '.')]\n",
      "[('From', 'IN'), ('Alexander', 'NNP'), ('onwards', 'NNS'), (',', ','), ('Greeks', 'NNP'), (',', ','), ('Turks', 'NNP'), (',', ','), ('Moguls', 'NNP'), (',', ','), ('portuguese', 'JJ'), (',', ','), ('british', 'JJ'), (',', ','), ('french', 'JJ'), (',', ','), ('dutch', 'VB'), (',', ','), ('came', 'VBD'), ('looted', 'JJ'), ('us', 'PRP'), (',', ','), ('took', 'VBD'), ('.', '.')]\n",
      "[('Yet', 'RB'), ('done', 'VBN'), ('nation', 'NN'), ('.', '.')]\n",
      "[('We', 'PRP'), ('conquered', 'VBD'), ('anyone', 'NN'), ('.', '.')]\n",
      "[('We', 'PRP'), ('grabbbed', 'VBD'), ('land', 'NN'), (',', ','), ('culture', 'NN'), (',', ','), ('history', 'NN'), ('tried', 'VBD'), ('enforce', 'JJ'), ('way', 'NN'), ('life', 'NN'), ('.', '.')]\n",
      "[('Why', 'WRB'), ('?', '.')]\n",
      "[('Because', 'IN'), ('respect', 'NN'), ('freedom', 'NN'), ('others', 'NNS'), ('.', '.')]\n",
      "[('That', 'DT'), ('first', 'JJ'), ('vision', 'NN'), ('freedom', 'NN'), ('others', 'NNS'), ('.', '.')]\n",
      "[('I', 'PRP'), ('believe', 'VBP'), ('India', 'NNP'), ('got', 'VBD'), ('first', 'JJ'), ('vision', 'NN'), ('1857', 'CD'), (',', ','), ('started', 'VBD'), ('War', 'NNP'), ('Independence', 'NNP'), ('.', '.')]\n",
      "[('It', 'PRP'), ('freedom', 'NN'), ('must', 'MD'), ('protect', 'VB'), ('nurture', 'NN'), ('build', 'NN')]\n"
     ]
    }
   ],
   "source": [
    "## Apply stopwords and filter and then apply stemming\n",
    "for i in range(len(document)):\n",
    "    words = nltk.word_tokenize(document[i])\n",
    "    words = [word for word in words if word not in set(stopwords.words('english'))]\n",
    "    pos_tag = nltk.pos_tag(words)\n",
    "    print(pos_tag)"
   ]
  },
  {
   "cell_type": "code",
   "execution_count": null,
   "id": "3fcf57ac",
   "metadata": {},
   "outputs": [],
   "source": [
    "document "
   ]
  },
  {
   "cell_type": "code",
   "execution_count": 8,
   "id": "d423c892",
   "metadata": {},
   "outputs": [
    {
     "name": "stderr",
     "output_type": "stream",
     "text": [
      "[nltk_data] Downloading package averaged_perceptron_tagger to\n",
      "[nltk_data]     C:\\Users\\Vaibhavi\\AppData\\Roaming\\nltk_data...\n",
      "[nltk_data]   Unzipping taggers\\averaged_perceptron_tagger.zip.\n"
     ]
    },
    {
     "data": {
      "text/plain": [
       "True"
      ]
     },
     "execution_count": 8,
     "metadata": {},
     "output_type": "execute_result"
    }
   ],
   "source": [
    "# import nltk\n",
    "# nltk.download('averaged_perceptron_tagger')"
   ]
  },
  {
   "cell_type": "code",
   "execution_count": 10,
   "id": "d187c1a3",
   "metadata": {},
   "outputs": [
    {
     "name": "stdout",
     "output_type": "stream",
     "text": [
      "[('Taj', 'NNP'), ('Mahal', 'NNP'), ('is', 'VBZ'), ('a', 'DT'), ('beautiful', 'JJ'), ('Monument', 'NN')]\n"
     ]
    }
   ],
   "source": [
    "print(nltk.pos_tag(\"Taj Mahal is a beautiful Monument\".split()))"
   ]
  }
 ],
 "metadata": {
  "kernelspec": {
   "display_name": "Python 3 (ipykernel)",
   "language": "python",
   "name": "python3"
  },
  "language_info": {
   "codemirror_mode": {
    "name": "ipython",
    "version": 3
   },
   "file_extension": ".py",
   "mimetype": "text/x-python",
   "name": "python",
   "nbconvert_exporter": "python",
   "pygments_lexer": "ipython3",
   "version": "3.9.7"
  }
 },
 "nbformat": 4,
 "nbformat_minor": 5
}
